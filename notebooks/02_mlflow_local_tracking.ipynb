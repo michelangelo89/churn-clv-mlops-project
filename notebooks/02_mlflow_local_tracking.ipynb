{
 "cells": [
  {
   "cell_type": "markdown",
   "id": "8a526b73-8e30-4735-850b-bf205e58a947",
   "metadata": {},
   "source": [
    "# 🧪 MLflow Experiment Tracking Setup (Hybrid: Local + S3)\n",
    "\n",
    "In this project, we're using **MLflow** to track experiments locally, while saving large model artifacts to a remote **Amazon S3 bucket**. This is a lightweight hybrid approach — no EC2 server required.\n",
    "\n",
    "---\n",
    "\n",
    "## 🗺️ MLflow Setup Overview\n",
    "\n",
    "| Component         | Description                                                                 |\n",
    "|------------------|-----------------------------------------------------------------------------|\n",
    "| **Tracking server**     | Runs **locally** on your machine (`localhost:5000`)                            |\n",
    "| **Backend store**       | Uses a **local SQLite database** (`backend.db`) to store metadata (runs, params, metrics) |\n",
    "| **Artifact store**      | Stores models and other artifacts in an **S3 bucket** (`mlops-churn-analytics-falcon`)    |\n",
    "\n",
    "---\n",
    "\n",
    "## 🚀 MLflow Server Command Explained\n",
    "\n",
    "```bash\n",
    "mlflow server \\\n",
    "  --backend-store-uri sqlite:///backend.db \\\n",
    "  --default-artifact-root s3://mlops-churn-analytics-falcon/mlflow-artifacts \\\n",
    "  --host 127.0.0.1 \\\n",
    "  --port 5000"
   ]
  },
  {
   "cell_type": "code",
   "execution_count": 1,
   "id": "eea1639b-a619-453d-8038-646f6ed26caf",
   "metadata": {},
   "outputs": [
    {
     "name": "stdout",
     "output_type": "stream",
     "text": [
      "Tracking URI: http://127.0.0.1:5000\n"
     ]
    },
    {
     "data": {
      "text/plain": [
       "[<Experiment: artifact_location='s3://mlops-churn-analytics-falcon/mlflow-artifacts/0', creation_time=1751969261156, experiment_id='0', last_update_time=1751969261156, lifecycle_stage='active', name='Default', tags={}>]"
      ]
     },
     "execution_count": 1,
     "metadata": {},
     "output_type": "execute_result"
    }
   ],
   "source": [
    "# 1. Setup MLflow tracking URI\n",
    "import mlflow\n",
    "\n",
    "mlflow.set_tracking_uri(\"http://127.0.0.1:5000\")  # local tracking server\n",
    "print(f\"Tracking URI: {mlflow.get_tracking_uri()}\")\n",
    "\n",
    "# 2. Confirm connection\n",
    "mlflow.search_experiments()"
   ]
  },
  {
   "cell_type": "code",
   "execution_count": 2,
   "id": "20dd94f5-15d0-435e-974f-3531a0be00e2",
   "metadata": {},
   "outputs": [
    {
     "name": "stderr",
     "output_type": "stream",
     "text": [
      "2025/07/08 10:26:56 INFO mlflow.tracking.fluent: Experiment with name 'churn-prediction-hybrid' does not exist. Creating a new experiment.\n"
     ]
    },
    {
     "data": {
      "text/plain": [
       "<Experiment: artifact_location='s3://mlops-churn-analytics-falcon/mlflow-artifacts/1', creation_time=1751970416075, experiment_id='1', last_update_time=1751970416075, lifecycle_stage='active', name='churn-prediction-hybrid', tags={}>"
      ]
     },
     "execution_count": 2,
     "metadata": {},
     "output_type": "execute_result"
    }
   ],
   "source": [
    "mlflow.set_experiment(\"churn-prediction-hybrid\")"
   ]
  },
  {
   "cell_type": "code",
   "execution_count": 3,
   "id": "958a01e1-1882-492d-8438-d2eadee4fc12",
   "metadata": {},
   "outputs": [
    {
     "name": "stdout",
     "output_type": "stream",
     "text": [
      "✅ Train shape: (7088, 19)\n",
      "✅ Test shape: (3039, 19)\n"
     ]
    },
    {
     "data": {
      "text/html": [
       "<div>\n",
       "<style scoped>\n",
       "    .dataframe tbody tr th:only-of-type {\n",
       "        vertical-align: middle;\n",
       "    }\n",
       "\n",
       "    .dataframe tbody tr th {\n",
       "        vertical-align: top;\n",
       "    }\n",
       "\n",
       "    .dataframe thead th {\n",
       "        text-align: right;\n",
       "    }\n",
       "</style>\n",
       "<table border=\"1\" class=\"dataframe\">\n",
       "  <thead>\n",
       "    <tr style=\"text-align: right;\">\n",
       "      <th></th>\n",
       "      <th>Customer_Age</th>\n",
       "      <th>Dependent_count</th>\n",
       "      <th>Months_on_book</th>\n",
       "      <th>Total_Relationship_Count</th>\n",
       "      <th>Months_Inactive_12_mon</th>\n",
       "      <th>Contacts_Count_12_mon</th>\n",
       "      <th>Credit_Limit</th>\n",
       "      <th>Total_Revolving_Bal</th>\n",
       "      <th>Total_Trans_Amt</th>\n",
       "      <th>Total_Trans_Ct</th>\n",
       "      <th>Total_Amt_Chng_Q4_Q1</th>\n",
       "      <th>Total_Ct_Chng_Q4_Q1</th>\n",
       "      <th>Avg_Utilization_Ratio</th>\n",
       "      <th>Gender</th>\n",
       "      <th>Education_Level</th>\n",
       "      <th>Marital_Status</th>\n",
       "      <th>Income_Category</th>\n",
       "      <th>Card_Category</th>\n",
       "      <th>churn</th>\n",
       "    </tr>\n",
       "  </thead>\n",
       "  <tbody>\n",
       "    <tr>\n",
       "      <th>0</th>\n",
       "      <td>44</td>\n",
       "      <td>3</td>\n",
       "      <td>36</td>\n",
       "      <td>2</td>\n",
       "      <td>3</td>\n",
       "      <td>3</td>\n",
       "      <td>6680.0</td>\n",
       "      <td>1839</td>\n",
       "      <td>7632</td>\n",
       "      <td>95</td>\n",
       "      <td>0.617</td>\n",
       "      <td>0.532</td>\n",
       "      <td>0.275</td>\n",
       "      <td>F</td>\n",
       "      <td>Uneducated</td>\n",
       "      <td>Married</td>\n",
       "      <td>Less than $40K</td>\n",
       "      <td>Blue</td>\n",
       "      <td>0</td>\n",
       "    </tr>\n",
       "    <tr>\n",
       "      <th>1</th>\n",
       "      <td>39</td>\n",
       "      <td>1</td>\n",
       "      <td>34</td>\n",
       "      <td>3</td>\n",
       "      <td>1</td>\n",
       "      <td>1</td>\n",
       "      <td>2884.0</td>\n",
       "      <td>2517</td>\n",
       "      <td>4809</td>\n",
       "      <td>87</td>\n",
       "      <td>0.693</td>\n",
       "      <td>0.740</td>\n",
       "      <td>0.873</td>\n",
       "      <td>F</td>\n",
       "      <td>Graduate</td>\n",
       "      <td>Single</td>\n",
       "      <td>Unknown</td>\n",
       "      <td>Blue</td>\n",
       "      <td>0</td>\n",
       "    </tr>\n",
       "    <tr>\n",
       "      <th>2</th>\n",
       "      <td>52</td>\n",
       "      <td>1</td>\n",
       "      <td>36</td>\n",
       "      <td>4</td>\n",
       "      <td>2</td>\n",
       "      <td>2</td>\n",
       "      <td>14858.0</td>\n",
       "      <td>1594</td>\n",
       "      <td>4286</td>\n",
       "      <td>72</td>\n",
       "      <td>0.510</td>\n",
       "      <td>0.636</td>\n",
       "      <td>0.107</td>\n",
       "      <td>M</td>\n",
       "      <td>Unknown</td>\n",
       "      <td>Married</td>\n",
       "      <td>$80K - $120K</td>\n",
       "      <td>Blue</td>\n",
       "      <td>0</td>\n",
       "    </tr>\n",
       "    <tr>\n",
       "      <th>3</th>\n",
       "      <td>34</td>\n",
       "      <td>0</td>\n",
       "      <td>17</td>\n",
       "      <td>4</td>\n",
       "      <td>1</td>\n",
       "      <td>4</td>\n",
       "      <td>2638.0</td>\n",
       "      <td>2092</td>\n",
       "      <td>1868</td>\n",
       "      <td>43</td>\n",
       "      <td>0.591</td>\n",
       "      <td>0.344</td>\n",
       "      <td>0.793</td>\n",
       "      <td>M</td>\n",
       "      <td>Graduate</td>\n",
       "      <td>Married</td>\n",
       "      <td>$40K - $60K</td>\n",
       "      <td>Blue</td>\n",
       "      <td>0</td>\n",
       "    </tr>\n",
       "    <tr>\n",
       "      <th>4</th>\n",
       "      <td>47</td>\n",
       "      <td>5</td>\n",
       "      <td>36</td>\n",
       "      <td>3</td>\n",
       "      <td>1</td>\n",
       "      <td>2</td>\n",
       "      <td>8896.0</td>\n",
       "      <td>1338</td>\n",
       "      <td>4252</td>\n",
       "      <td>70</td>\n",
       "      <td>0.741</td>\n",
       "      <td>0.591</td>\n",
       "      <td>0.150</td>\n",
       "      <td>M</td>\n",
       "      <td>Doctorate</td>\n",
       "      <td>Single</td>\n",
       "      <td>Less than $40K</td>\n",
       "      <td>Blue</td>\n",
       "      <td>0</td>\n",
       "    </tr>\n",
       "  </tbody>\n",
       "</table>\n",
       "</div>"
      ],
      "text/plain": [
       "   Customer_Age  Dependent_count  Months_on_book  Total_Relationship_Count  \\\n",
       "0            44                3              36                         2   \n",
       "1            39                1              34                         3   \n",
       "2            52                1              36                         4   \n",
       "3            34                0              17                         4   \n",
       "4            47                5              36                         3   \n",
       "\n",
       "   Months_Inactive_12_mon  Contacts_Count_12_mon  Credit_Limit  \\\n",
       "0                       3                      3        6680.0   \n",
       "1                       1                      1        2884.0   \n",
       "2                       2                      2       14858.0   \n",
       "3                       1                      4        2638.0   \n",
       "4                       1                      2        8896.0   \n",
       "\n",
       "   Total_Revolving_Bal  Total_Trans_Amt  Total_Trans_Ct  Total_Amt_Chng_Q4_Q1  \\\n",
       "0                 1839             7632              95                 0.617   \n",
       "1                 2517             4809              87                 0.693   \n",
       "2                 1594             4286              72                 0.510   \n",
       "3                 2092             1868              43                 0.591   \n",
       "4                 1338             4252              70                 0.741   \n",
       "\n",
       "   Total_Ct_Chng_Q4_Q1  Avg_Utilization_Ratio Gender Education_Level  \\\n",
       "0                0.532                  0.275      F      Uneducated   \n",
       "1                0.740                  0.873      F        Graduate   \n",
       "2                0.636                  0.107      M         Unknown   \n",
       "3                0.344                  0.793      M        Graduate   \n",
       "4                0.591                  0.150      M       Doctorate   \n",
       "\n",
       "  Marital_Status Income_Category Card_Category  churn  \n",
       "0        Married  Less than $40K          Blue      0  \n",
       "1         Single         Unknown          Blue      0  \n",
       "2        Married    $80K - $120K          Blue      0  \n",
       "3        Married     $40K - $60K          Blue      0  \n",
       "4         Single  Less than $40K          Blue      0  "
      ]
     },
     "execution_count": 3,
     "metadata": {},
     "output_type": "execute_result"
    }
   ],
   "source": [
    "import pandas as pd\n",
    "\n",
    "# Load data\n",
    "train_df = pd.read_csv(\"../data/processed/train.csv\")\n",
    "test_df = pd.read_csv(\"../data/processed/test.csv\")\n",
    "\n",
    "print(\"✅ Train shape:\", train_df.shape)\n",
    "print(\"✅ Test shape:\", test_df.shape)\n",
    "\n",
    "train_df.head()"
   ]
  },
  {
   "cell_type": "code",
   "execution_count": 4,
   "id": "ef5b27c7-081a-415f-90d9-1a2a17907feb",
   "metadata": {},
   "outputs": [
    {
     "name": "stdout",
     "output_type": "stream",
     "text": [
      "✅ Accuracy: 0.889108259295821\n",
      "✅ ROC AUC: 0.9003275796698177\n"
     ]
    },
    {
     "name": "stderr",
     "output_type": "stream",
     "text": [
      "/opt/conda/envs/churn-clv-mlops/lib/python3.9/site-packages/sklearn/linear_model/_logistic.py:465: ConvergenceWarning: lbfgs failed to converge (status=1):\n",
      "STOP: TOTAL NO. of ITERATIONS REACHED LIMIT.\n",
      "\n",
      "Increase the number of iterations (max_iter) or scale the data as shown in:\n",
      "    https://scikit-learn.org/stable/modules/preprocessing.html\n",
      "Please also refer to the documentation for alternative solver options:\n",
      "    https://scikit-learn.org/stable/modules/linear_model.html#logistic-regression\n",
      "  n_iter_i = _check_optimize_result(\n"
     ]
    }
   ],
   "source": [
    "from sklearn.linear_model import LogisticRegression\n",
    "from sklearn.metrics import accuracy_score, roc_auc_score\n",
    "from sklearn.compose import ColumnTransformer\n",
    "from sklearn.pipeline import Pipeline\n",
    "from sklearn.preprocessing import OneHotEncoder\n",
    "from sklearn.model_selection import train_test_split\n",
    "\n",
    "# Separate features and target\n",
    "target = \"churn\"\n",
    "features = [\n",
    "    'Customer_Age', 'Dependent_count', 'Months_on_book',\n",
    "    'Total_Relationship_Count', 'Months_Inactive_12_mon',\n",
    "    'Contacts_Count_12_mon', 'Credit_Limit', 'Total_Revolving_Bal',\n",
    "    'Total_Trans_Amt', 'Total_Trans_Ct', 'Total_Amt_Chng_Q4_Q1',\n",
    "    'Total_Ct_Chng_Q4_Q1', 'Avg_Utilization_Ratio',\n",
    "    'Gender', 'Education_Level', 'Marital_Status',\n",
    "    'Income_Category', 'Card_Category'\n",
    "]\n",
    "\n",
    "X_train = train_df[features]\n",
    "y_train = train_df[target]\n",
    "\n",
    "X_test = test_df[features]\n",
    "y_test = test_df[target]\n",
    "\n",
    "# Define categorical columns\n",
    "categorical_cols = [\n",
    "    'Gender', 'Education_Level', 'Marital_Status',\n",
    "    'Income_Category', 'Card_Category'\n",
    "]\n",
    "\n",
    "# Build preprocessing pipeline\n",
    "preprocessor = ColumnTransformer(\n",
    "    transformers=[\n",
    "        ('cat', OneHotEncoder(handle_unknown='ignore'), categorical_cols)\n",
    "    ],\n",
    "    remainder='passthrough'\n",
    ")\n",
    "\n",
    "# Create full pipeline\n",
    "pipeline = Pipeline(steps=[\n",
    "    ('preprocessor', preprocessor),\n",
    "    ('classifier', LogisticRegression(max_iter=1000))\n",
    "])\n",
    "\n",
    "# Train model\n",
    "pipeline.fit(X_train, y_train)\n",
    "\n",
    "# Predict\n",
    "y_pred = pipeline.predict(X_test)\n",
    "y_proba = pipeline.predict_proba(X_test)[:, 1]\n",
    "\n",
    "# Evaluate\n",
    "print(\"✅ Accuracy:\", accuracy_score(y_test, y_pred))\n",
    "print(\"✅ ROC AUC:\", roc_auc_score(y_test, y_proba))"
   ]
  },
  {
   "cell_type": "code",
   "execution_count": 5,
   "id": "68e6eb25-09b1-4e4e-98a4-910c73966547",
   "metadata": {},
   "outputs": [
    {
     "name": "stderr",
     "output_type": "stream",
     "text": [
      "2025/07/08 10:40:12 WARNING mlflow.models.model: `artifact_path` is deprecated. Please use `name` instead.\n",
      "\u001b[31m2025/07/08 10:40:14 WARNING mlflow.models.model: Model logged without a signature and input example. Please set `input_example` parameter when logging the model to auto infer the model signature.\u001b[0m\n"
     ]
    },
    {
     "name": "stdout",
     "output_type": "stream",
     "text": [
      "✅ Random Forest run logged to MLflow!\n",
      "📍 Tracking URI: http://127.0.0.1:5000\n",
      "📦 Artifacts URI: s3://mlops-churn-analytics-falcon/mlflow-artifacts/1/6bb43663600e4888b6374bb437ba88e9/artifacts\n",
      "🏃 View run enthused-finch-482 at: http://127.0.0.1:5000/#/experiments/1/runs/6bb43663600e4888b6374bb437ba88e9\n",
      "🧪 View experiment at: http://127.0.0.1:5000/#/experiments/1\n"
     ]
    }
   ],
   "source": [
    "import mlflow\n",
    "import mlflow.sklearn\n",
    "from sklearn.ensemble import RandomForestClassifier\n",
    "\n",
    "mlflow.set_tracking_uri(\"http://127.0.0.1:5000\")\n",
    "mlflow.set_experiment(\"churn-prediction-hybrid\")\n",
    "\n",
    "with mlflow.start_run():\n",
    "\n",
    "    # Define params for Random Forest\n",
    "    params = {\n",
    "        \"n_estimators\": 100,\n",
    "        \"max_depth\": 10,\n",
    "        \"random_state\": 42\n",
    "    }\n",
    "    mlflow.log_params(params)\n",
    "\n",
    "    # Replace classifier in pipeline\n",
    "    pipeline.set_params(classifier=RandomForestClassifier(**params))\n",
    "\n",
    "    # Train\n",
    "    pipeline.fit(X_train, y_train)\n",
    "\n",
    "    # Predict\n",
    "    y_pred = pipeline.predict(X_test)\n",
    "    y_proba = pipeline.predict_proba(X_test)[:, 1]\n",
    "\n",
    "    # Metrics\n",
    "    accuracy = accuracy_score(y_test, y_pred)\n",
    "    roc_auc = roc_auc_score(y_test, y_proba)\n",
    "\n",
    "    mlflow.log_metric(\"accuracy\", accuracy)\n",
    "    mlflow.log_metric(\"roc_auc\", roc_auc)\n",
    "\n",
    "    # Save full pipeline to S3\n",
    "    mlflow.sklearn.lo_model(pipeline, artifact_path=\"model\")\n",
    "\n",
    "    print(\"✅ Random Forest run logged to MLflow!\")\n",
    "    print(\"📍 Tracking URI:\", mlflow.get_tracking_uri())\n",
    "    print(\"📦 Artifacts URI:\", mlflow.get_artifact_uri())"
   ]
  },
  {
   "cell_type": "markdown",
   "id": "10f00052-6f8a-45b5-86b1-e1d8f0c7f29e",
   "metadata": {},
   "source": [
    "### 🔐 Registering the Best Model in MLflow\n",
    "\n",
    "After training and logging multiple models during experiments, we often want to **register the best-performing model** (e.g. with the highest ROC AUC or accuracy).\n",
    "\n",
    "By registering a model:\n",
    "- It becomes part of the **Model Registry**, where we can manage different versions.\n",
    "- We can assign stages like `Staging`, `Production`, or `Archived`.\n",
    "- It simplifies deployment and collaboration.\n",
    "\n",
    "#### How it works:\n",
    "1. We connect to the MLflow Tracking Server using `MlflowClient`.\n",
    "2. We get the last run ID (or choose a specific one manually).\n",
    "3. We call `mlflow.register_model(...)` to register the model from that run.\n",
    "\n",
    "📌 **Note:** The `artifact_path` used in `mlflow.sklearn.log_model(pipeline, artifact_path=\"model\")` **must match** the `\"model\"` string used in `model_uri=f\"runs:/{run_id}/model\"`."
   ]
  },
  {
   "cell_type": "code",
   "execution_count": 7,
   "id": "0e0dc98f-90b9-4ba4-8675-8d88b8c6732b",
   "metadata": {},
   "outputs": [
    {
     "name": "stderr",
     "output_type": "stream",
     "text": [
      "Registered model 'churn-randomforest-classifier' already exists. Creating a new version of this model...\n",
      "2025/07/08 10:50:18 WARNING mlflow.tracking._model_registry.fluent: Run with id 6bb43663600e4888b6374bb437ba88e9 has no artifacts at artifact path 'model', registering model based on models:/m-1afcf28ce54f41ab858e8e12b59d407f instead\n",
      "2025/07/08 10:50:18 INFO mlflow.store.model_registry.abstract_store: Waiting up to 300 seconds for model version to finish creation. Model name: churn-randomforest-classifier, version 1\n",
      "Created version '1' of model 'churn-randomforest-classifier'.\n"
     ]
    },
    {
     "data": {
      "text/plain": [
       "<ModelVersion: aliases=[], creation_timestamp=1751971818755, current_stage='None', deployment_job_state=<ModelVersionDeploymentJobState: current_task_name='', job_id='', job_state='DEPLOYMENT_JOB_CONNECTION_STATE_UNSPECIFIED', run_id='', run_state='DEPLOYMENT_JOB_RUN_STATE_UNSPECIFIED'>, description='', last_updated_timestamp=1751971818755, metrics=None, model_id=None, name='churn-randomforest-classifier', params=None, run_id='6bb43663600e4888b6374bb437ba88e9', run_link='', source='models:/m-1afcf28ce54f41ab858e8e12b59d407f', status='READY', status_message=None, tags={}, user_id='', version='1'>"
      ]
     },
     "execution_count": 7,
     "metadata": {},
     "output_type": "execute_result"
    }
   ],
   "source": [
    "from mlflow.tracking import MlflowClient\n",
    "\n",
    "# Connect to your tracking server\n",
    "client = MlflowClient(\"http://127.0.0.1:5000\")\n",
    "\n",
    "# Search the last run from your experiment\n",
    "experiment_id = \"1\"\n",
    "run_id = client.search_runs(experiment_ids=[experiment_id])[0].info.run_id\n",
    "\n",
    "mlflow.register_model(\n",
    "    model_uri=f\"runs:/{run_id}/model\",  # match the correct folder name used in log_model()\n",
    "    name=\"churn-randomforest-classifier\"\n",
    ")"
   ]
  },
  {
   "cell_type": "code",
   "execution_count": null,
   "id": "62f5b84f-c5bc-4a68-9543-a133640e7555",
   "metadata": {},
   "outputs": [],
   "source": []
  }
 ],
 "metadata": {
  "kernelspec": {
   "display_name": "Python (churn-clv-mlops)",
   "language": "python",
   "name": "churn-clv-mlops"
  },
  "language_info": {
   "codemirror_mode": {
    "name": "ipython",
    "version": 3
   },
   "file_extension": ".py",
   "mimetype": "text/x-python",
   "name": "python",
   "nbconvert_exporter": "python",
   "pygments_lexer": "ipython3",
   "version": "3.9.23"
  }
 },
 "nbformat": 4,
 "nbformat_minor": 5
}
